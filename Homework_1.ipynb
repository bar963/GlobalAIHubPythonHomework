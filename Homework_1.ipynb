{
 "cells": [
  {
   "cell_type": "code",
   "execution_count": 32,
   "metadata": {},
   "outputs": [
    {
     "name": "stdout",
     "output_type": "stream",
     "text": [
      "Aşağıda girmiş olduğunuz değerlerin türleri verilmiştir.\n",
      "Girilen 1. Değer Türü : <class 'float'>\n",
      "Girilen 2. Değer Türü : <class 'str'>\n",
      "Girilen 3. Değer Türü : <class 'int'>\n",
      "Girilen 4. Değer Türü : <class 'str'>\n",
      "Girilen 5. Değer Türü : <class 'int'>\n"
     ]
    }
   ],
   "source": [
    "value1 = 3.25\n",
    "value2 = \"Global AI Hub\"\n",
    "value3 = 416\n",
    "value4 = \"Hello World!\"\n",
    "value5 = 98\n",
    "\n",
    "print(\"Aşağıda girmiş olduğunuz değerlerin türleri verilmiştir.\")\n",
    "\n",
    "print(\"Girilen 1. Değer Türü :\" , type(value1) )\n",
    "print(\"Girilen 2. Değer Türü :\" , type(value2) )\n",
    "print(\"Girilen 3. Değer Türü :\" , type(value3) )\n",
    "print(\"Girilen 4. Değer Türü : {}\" . format (type(value4)) )\n",
    "print(\"Girilen 5. Değer Türü : {}\" . format (type(value5)) )\n",
    "\n",
    "\n"
   ]
  },
  {
   "cell_type": "code",
   "execution_count": null,
   "metadata": {},
   "outputs": [],
   "source": []
  }
 ],
 "metadata": {
  "kernelspec": {
   "display_name": "Python 3",
   "language": "python",
   "name": "python3"
  },
  "language_info": {
   "codemirror_mode": {
    "name": "ipython",
    "version": 3
   },
   "file_extension": ".py",
   "mimetype": "text/x-python",
   "name": "python",
   "nbconvert_exporter": "python",
   "pygments_lexer": "ipython3",
   "version": "3.7.3"
  }
 },
 "nbformat": 4,
 "nbformat_minor": 2
}
